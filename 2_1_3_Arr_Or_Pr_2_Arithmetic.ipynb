{
  "cells": [
    {
      "cell_type": "markdown",
      "metadata": {
        "id": "view-in-github",
        "colab_type": "text"
      },
      "source": [
        "<a href=\"https://colab.research.google.com/github/OtabekMamajonov/numpy/blob/main/2_1_3_Arr_Or_Pr_2_Arithmetic.ipynb\" target=\"_parent\"><img src=\"https://colab.research.google.com/assets/colab-badge.svg\" alt=\"Open In Colab\"/></a>"
      ]
    },
    {
      "cell_type": "markdown",
      "metadata": {
        "id": "KXjX9QsRmpuK"
      },
      "source": [
        "### NumPy kutubxonasini chaqirib olish"
      ]
    },
    {
      "cell_type": "code",
      "execution_count": null,
      "metadata": {
        "id": "eghqxnOTm0nI"
      },
      "outputs": [],
      "source": [
        "import numpy as np"
      ]
    },
    {
      "cell_type": "markdown",
      "metadata": {
        "id": "LwatumTrmsCz"
      },
      "source": [
        "### 2.1.3. Massivga yo'naltirilgan dasturlash"
      ]
    },
    {
      "cell_type": "markdown",
      "metadata": {
        "id": "xDFW8K97mw6e"
      },
      "source": [
        "### Arifmetik amallar"
      ]
    },
    {
      "cell_type": "markdown",
      "metadata": {
        "id": "zJnp_G-TnKPo"
      },
      "source": [
        "### Ko'paytirish, bo'lish, qo'shish, ayirish va h.k amallar "
      ]
    },
    {
      "cell_type": "code",
      "execution_count": null,
      "metadata": {
        "id": "ekPC61GrpMc-"
      },
      "outputs": [],
      "source": [
        "# data\n",
        "arr1 = np.arange(6).reshape(2, 3) # 0~6 gach bo'lgan elementlardan tashkil topgan array\n",
        "arr2 = np.arange(6, 12).reshape(2, 3) # 6 dan 11 gacha bo'lgan elementlardan tashkil topgan array"
      ]
    },
    {
      "cell_type": "code",
      "execution_count": null,
      "metadata": {
        "colab": {
          "base_uri": "https://localhost:8080/"
        },
        "id": "iJAc19eKqsC5",
        "outputId": "93380e8f-3087-4728-d8c4-a1565b93398d"
      },
      "outputs": [
        {
          "data": {
            "text/plain": [
              "array([[0, 1, 2],\n",
              "       [3, 4, 5]])"
            ]
          },
          "execution_count": 12,
          "metadata": {},
          "output_type": "execute_result"
        }
      ],
      "source": [
        "arr1"
      ]
    },
    {
      "cell_type": "code",
      "execution_count": null,
      "metadata": {
        "colab": {
          "base_uri": "https://localhost:8080/"
        },
        "id": "iBvNbx0QqukB",
        "outputId": "409442d1-2560-417b-ba4a-daa3296ab41c"
      },
      "outputs": [
        {
          "data": {
            "text/plain": [
              "array([[ 6,  7,  8],\n",
              "       [ 9, 10, 11]])"
            ]
          },
          "execution_count": 16,
          "metadata": {},
          "output_type": "execute_result"
        }
      ],
      "source": [
        "arr2 "
      ]
    },
    {
      "cell_type": "code",
      "execution_count": null,
      "metadata": {
        "colab": {
          "base_uri": "https://localhost:8080/"
        },
        "id": "5hODCeZAqZbj",
        "outputId": "00830699-1be4-4854-ee34-bcdacaf2e20b"
      },
      "outputs": [
        {
          "data": {
            "text/plain": [
              "array([[ 0,  7, 16],\n",
              "       [27, 40, 55]])"
            ]
          },
          "execution_count": 11,
          "metadata": {},
          "output_type": "execute_result"
        }
      ],
      "source": [
        "# Ko'paytirish\n",
        "arr1 * arr2 # arr1 ning elementlarini arr2 ning mos elementlariga ko'paytirib beradi"
      ]
    },
    {
      "cell_type": "code",
      "execution_count": null,
      "metadata": {
        "colab": {
          "base_uri": "https://localhost:8080/"
        },
        "id": "W7_EyAuIqqRm",
        "outputId": "89901ab3-1da4-4baf-f4b7-c68eaf77748d"
      },
      "outputs": [
        {
          "name": "stderr",
          "output_type": "stream",
          "text": [
            "/usr/local/lib/python3.7/dist-packages/ipykernel_launcher.py:2: RuntimeWarning: divide by zero encountered in true_divide\n",
            "  \n"
          ]
        },
        {
          "data": {
            "text/plain": [
              "array([[inf, 7. , 4. ],\n",
              "       [3. , 2.5, 2.2]])"
            ]
          },
          "execution_count": 17,
          "metadata": {},
          "output_type": "execute_result"
        }
      ],
      "source": [
        "# bo'lish\n",
        "arr2/arr1 # arr1 ning elementlarini arr2 ning mos elementlariga bo'lib beradi"
      ]
    },
    {
      "cell_type": "code",
      "execution_count": null,
      "metadata": {
        "colab": {
          "base_uri": "https://localhost:8080/"
        },
        "id": "5DgwDhI6rCTc",
        "outputId": "27b17b2b-c1fe-4684-eaae-70fcaaf26f2f"
      },
      "outputs": [
        {
          "data": {
            "text/plain": [
              "array([[ 6,  8, 10],\n",
              "       [12, 14, 16]])"
            ]
          },
          "execution_count": 18,
          "metadata": {},
          "output_type": "execute_result"
        }
      ],
      "source": [
        "# qo'shish\n",
        "arr1 + arr2 # arr1 ning elementlarini arr2 ning mos elementlariga qo'shib beradi"
      ]
    },
    {
      "cell_type": "code",
      "execution_count": null,
      "metadata": {
        "colab": {
          "base_uri": "https://localhost:8080/"
        },
        "id": "ePNGACPOrp7z",
        "outputId": "8a4a78f6-678b-462d-ff71-a00a63ac5965"
      },
      "outputs": [
        {
          "data": {
            "text/plain": [
              "array([[6, 6, 6],\n",
              "       [6, 6, 6]])"
            ]
          },
          "execution_count": 19,
          "metadata": {},
          "output_type": "execute_result"
        }
      ],
      "source": [
        "# ayirish \n",
        "arr2 - arr1 # arr2 ning elementlaridan arr1 mos elementlarini ayirish"
      ]
    },
    {
      "cell_type": "code",
      "execution_count": null,
      "metadata": {
        "colab": {
          "base_uri": "https://localhost:8080/"
        },
        "id": "05VEzdb-sEQD",
        "outputId": "357cc24d-b2ff-42e4-e035-87ee15c35d01"
      },
      "outputs": [
        {
          "data": {
            "text/plain": [
              "array([[ 0,  1,  4],\n",
              "       [ 9, 16, 25]])"
            ]
          },
          "execution_count": 22,
          "metadata": {},
          "output_type": "execute_result"
        }
      ],
      "source": [
        "# kvadratga oshirish (square)\n",
        "arr1**2"
      ]
    },
    {
      "cell_type": "code",
      "execution_count": null,
      "metadata": {
        "colab": {
          "base_uri": "https://localhost:8080/"
        },
        "id": "T5QUvVTrsfO9",
        "outputId": "bf57e7db-aa1a-491b-95e6-aaea74ea3c24"
      },
      "outputs": [
        {
          "data": {
            "text/plain": [
              "array([[2.44948974, 2.64575131, 2.82842712],\n",
              "       [3.        , 3.16227766, 3.31662479]])"
            ]
          },
          "execution_count": 23,
          "metadata": {},
          "output_type": "execute_result"
        }
      ],
      "source": [
        "# kvadrat ildizdan (sqrt)\n",
        "arr2**0.5"
      ]
    }
  ],
  "metadata": {
    "colab": {
      "collapsed_sections": [],
      "name": "2_1_3_Arr_Or_Pr_2_Arithmetic.ipynb",
      "provenance": [],
      "include_colab_link": true
    },
    "kernelspec": {
      "display_name": "Python 3",
      "name": "python3"
    },
    "language_info": {
      "name": "python"
    }
  },
  "nbformat": 4,
  "nbformat_minor": 0
}